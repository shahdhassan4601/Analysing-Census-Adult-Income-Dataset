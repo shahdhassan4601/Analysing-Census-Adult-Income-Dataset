{
 "cells": [
  {
   "cell_type": "markdown",
   "id": "fbeedf0d-5332-454b-9357-17b53fb7d1d8",
   "metadata": {},
   "source": [
    "# **Analyzing \"Census Adult Income\" Dataset**"
   ]
  },
  {
   "cell_type": "markdown",
   "id": "e3ab6853-664c-45b4-ac8b-577ff3393009",
   "metadata": {},
   "source": [
    "# Step 1: Import Libraries and Explore the Dataset\n",
    "\n",
    "## **Objectives**\n",
    "- Load the dataset and examine its structure.\n",
    "- Check the first few rows of the data.\n",
    "- Assess the column data types and summary statistics.\n",
    "- Identify any missing values.\n",
    "\n",
    "## **Code**"
   ]
  },
  {
   "cell_type": "code",
   "execution_count": 2,
   "id": "d7ff3833-b393-48d2-a4fb-70e83c380ddf",
   "metadata": {},
   "outputs": [],
   "source": [
    "import pandas as pd\n",
    "import numpy as np \n",
    "import matplotlib.pyplot as plt\n",
    "import seaborn as sns\n",
    "import datetime \n",
    "import warnings\n",
    "from sklearn.impute import SimpleImputer\n",
    "from sklearn.experimental import enable_iterative_imputer\n",
    "from sklearn.impute import IterativeImputer\n",
    "warnings.filterwarnings(\"ignore\")"
   ]
  },
  {
   "cell_type": "code",
   "execution_count": 10,
   "id": "8ce4f269-e66d-455b-988a-93e5b7cd5779",
   "metadata": {},
   "outputs": [
    {
     "data": {
      "text/html": [
       "<div>\n",
       "<style scoped>\n",
       "    .dataframe tbody tr th:only-of-type {\n",
       "        vertical-align: middle;\n",
       "    }\n",
       "\n",
       "    .dataframe tbody tr th {\n",
       "        vertical-align: top;\n",
       "    }\n",
       "\n",
       "    .dataframe thead th {\n",
       "        text-align: right;\n",
       "    }\n",
       "</style>\n",
       "<table border=\"1\" class=\"dataframe\">\n",
       "  <thead>\n",
       "    <tr style=\"text-align: right;\">\n",
       "      <th></th>\n",
       "      <th>age</th>\n",
       "      <th>workclass</th>\n",
       "      <th>education</th>\n",
       "      <th>marital_status</th>\n",
       "      <th>occupation</th>\n",
       "      <th>relationship</th>\n",
       "      <th>race</th>\n",
       "      <th>sex</th>\n",
       "      <th>capital_gain</th>\n",
       "      <th>capital_loss</th>\n",
       "      <th>hours_per_week</th>\n",
       "      <th>native_country</th>\n",
       "      <th>income_bracket</th>\n",
       "    </tr>\n",
       "  </thead>\n",
       "  <tbody>\n",
       "    <tr>\n",
       "      <th>0</th>\n",
       "      <td>39</td>\n",
       "      <td>Private</td>\n",
       "      <td>9th</td>\n",
       "      <td>Married-civ-spouse</td>\n",
       "      <td>Other-service</td>\n",
       "      <td>Wife</td>\n",
       "      <td>Black</td>\n",
       "      <td>Female</td>\n",
       "      <td>3411</td>\n",
       "      <td>0</td>\n",
       "      <td>34</td>\n",
       "      <td>United-States</td>\n",
       "      <td>&lt;=50K</td>\n",
       "    </tr>\n",
       "    <tr>\n",
       "      <th>1</th>\n",
       "      <td>77</td>\n",
       "      <td>Private</td>\n",
       "      <td>9th</td>\n",
       "      <td>Married-civ-spouse</td>\n",
       "      <td>Priv-house-serv</td>\n",
       "      <td>Wife</td>\n",
       "      <td>Black</td>\n",
       "      <td>Female</td>\n",
       "      <td>0</td>\n",
       "      <td>0</td>\n",
       "      <td>10</td>\n",
       "      <td>United-States</td>\n",
       "      <td>&lt;=50K</td>\n",
       "    </tr>\n",
       "    <tr>\n",
       "      <th>2</th>\n",
       "      <td>38</td>\n",
       "      <td>Private</td>\n",
       "      <td>9th</td>\n",
       "      <td>Married-civ-spouse</td>\n",
       "      <td>Other-service</td>\n",
       "      <td>Wife</td>\n",
       "      <td>Black</td>\n",
       "      <td>Female</td>\n",
       "      <td>0</td>\n",
       "      <td>0</td>\n",
       "      <td>24</td>\n",
       "      <td>Haiti</td>\n",
       "      <td>&lt;=50K</td>\n",
       "    </tr>\n",
       "    <tr>\n",
       "      <th>3</th>\n",
       "      <td>28</td>\n",
       "      <td>Private</td>\n",
       "      <td>9th</td>\n",
       "      <td>Married-civ-spouse</td>\n",
       "      <td>Protective-serv</td>\n",
       "      <td>Wife</td>\n",
       "      <td>Black</td>\n",
       "      <td>Female</td>\n",
       "      <td>0</td>\n",
       "      <td>0</td>\n",
       "      <td>40</td>\n",
       "      <td>United-States</td>\n",
       "      <td>&lt;=50K</td>\n",
       "    </tr>\n",
       "    <tr>\n",
       "      <th>4</th>\n",
       "      <td>37</td>\n",
       "      <td>Private</td>\n",
       "      <td>9th</td>\n",
       "      <td>Married-civ-spouse</td>\n",
       "      <td>Machine-op-inspct</td>\n",
       "      <td>Wife</td>\n",
       "      <td>Black</td>\n",
       "      <td>Female</td>\n",
       "      <td>0</td>\n",
       "      <td>0</td>\n",
       "      <td>48</td>\n",
       "      <td>United-States</td>\n",
       "      <td>&lt;=50K</td>\n",
       "    </tr>\n",
       "  </tbody>\n",
       "</table>\n",
       "</div>"
      ],
      "text/plain": [
       "   age workclass education       marital_status          occupation  \\\n",
       "0   39   Private       9th   Married-civ-spouse       Other-service   \n",
       "1   77   Private       9th   Married-civ-spouse     Priv-house-serv   \n",
       "2   38   Private       9th   Married-civ-spouse       Other-service   \n",
       "3   28   Private       9th   Married-civ-spouse     Protective-serv   \n",
       "4   37   Private       9th   Married-civ-spouse   Machine-op-inspct   \n",
       "\n",
       "  relationship    race      sex  capital_gain  capital_loss  hours_per_week  \\\n",
       "0         Wife   Black   Female          3411             0              34   \n",
       "1         Wife   Black   Female             0             0              10   \n",
       "2         Wife   Black   Female             0             0              24   \n",
       "3         Wife   Black   Female             0             0              40   \n",
       "4         Wife   Black   Female             0             0              48   \n",
       "\n",
       "   native_country income_bracket  \n",
       "0   United-States          <=50K  \n",
       "1   United-States          <=50K  \n",
       "2           Haiti          <=50K  \n",
       "3   United-States          <=50K  \n",
       "4   United-States          <=50K  "
      ]
     },
     "execution_count": 10,
     "metadata": {},
     "output_type": "execute_result"
    }
   ],
   "source": [
    "df = pd.read_csv(\"C:/Users/OMNYA MOHAMED/OneDrive/Desktop/CensusAdultIncome.csv\")\n",
    "df.head()"
   ]
  },
  {
   "cell_type": "code",
   "execution_count": 11,
   "id": "50223def-10e8-4244-abae-716471ac1f8b",
   "metadata": {},
   "outputs": [
    {
     "name": "stdout",
     "output_type": "stream",
     "text": [
      "<class 'pandas.core.frame.DataFrame'>\n",
      "RangeIndex: 32561 entries, 0 to 32560\n",
      "Data columns (total 13 columns):\n",
      " #   Column          Non-Null Count  Dtype \n",
      "---  ------          --------------  ----- \n",
      " 0   age             32561 non-null  int64 \n",
      " 1   workclass       32561 non-null  object\n",
      " 2   education       32561 non-null  object\n",
      " 3   marital_status  32561 non-null  object\n",
      " 4   occupation      32561 non-null  object\n",
      " 5   relationship    32561 non-null  object\n",
      " 6   race            32561 non-null  object\n",
      " 7   sex             32561 non-null  object\n",
      " 8   capital_gain    32561 non-null  int64 \n",
      " 9   capital_loss    32561 non-null  int64 \n",
      " 10  hours_per_week  32561 non-null  int64 \n",
      " 11  native_country  32561 non-null  object\n",
      " 12  income_bracket  32561 non-null  object\n",
      "dtypes: int64(4), object(9)\n",
      "memory usage: 3.2+ MB\n",
      "None\n"
     ]
    }
   ],
   "source": [
    "# Check the structure of the DataFrame\n",
    "print(df.info())"
   ]
  },
  {
   "cell_type": "code",
   "execution_count": 12,
   "id": "e09095f3-42e7-439f-afb7-d7a8b530e543",
   "metadata": {},
   "outputs": [
    {
     "name": "stdout",
     "output_type": "stream",
     "text": [
      "                age  capital_gain  capital_loss  hours_per_week\n",
      "count  32561.000000  32561.000000  32561.000000    32561.000000\n",
      "mean      38.581647   1077.648844     87.303830       40.437456\n",
      "std       13.640433   7385.292085    402.960219       12.347429\n",
      "min       17.000000      0.000000      0.000000        1.000000\n",
      "25%       28.000000      0.000000      0.000000       40.000000\n",
      "50%       37.000000      0.000000      0.000000       40.000000\n",
      "75%       48.000000      0.000000      0.000000       45.000000\n",
      "max       90.000000  99999.000000   4356.000000       99.000000\n"
     ]
    }
   ],
   "source": [
    "# Check the structure of the DataFrame\n",
    "print(df.describe())"
   ]
  },
  {
   "cell_type": "code",
   "execution_count": 13,
   "id": "8429dfaa-326b-4f51-b463-08d55c0c2c88",
   "metadata": {},
   "outputs": [
    {
     "name": "stdout",
     "output_type": "stream",
     "text": [
      "age                73\n",
      "workclass           9\n",
      "education          16\n",
      "marital_status      7\n",
      "occupation         15\n",
      "relationship        6\n",
      "race                5\n",
      "sex                 2\n",
      "capital_gain      119\n",
      "capital_loss       92\n",
      "hours_per_week     94\n",
      "native_country     42\n",
      "income_bracket      2\n",
      "dtype: int64\n"
     ]
    }
   ],
   "source": [
    "# Count the number of unique values in each column\n",
    "unique_counts = df.nunique()\n",
    "\n",
    "# Print the unique counts for each column\n",
    "print(unique_counts)"
   ]
  },
  {
   "cell_type": "markdown",
   "id": "9d77a753-f4e8-4eb2-8116-e99fcc8edb6a",
   "metadata": {},
   "source": [
    "# Step 2: Data Cleaning"
   ]
  },
  {
   "cell_type": "markdown",
   "id": "b37eaa62-2c06-4bbb-b894-5f7b0b5cfbfa",
   "metadata": {},
   "source": [
    "1. Check the missing values"
   ]
  },
  {
   "cell_type": "code",
   "execution_count": 14,
   "id": "6ef29f5b-c5cf-42a4-ba86-b33565b9d522",
   "metadata": {},
   "outputs": [
    {
     "name": "stdout",
     "output_type": "stream",
     "text": [
      "Missing values per column:\n",
      "age               0\n",
      "workclass         0\n",
      "education         0\n",
      "marital_status    0\n",
      "occupation        0\n",
      "relationship      0\n",
      "race              0\n",
      "sex               0\n",
      "capital_gain      0\n",
      "capital_loss      0\n",
      "hours_per_week    0\n",
      "native_country    0\n",
      "income_bracket    0\n",
      "dtype: int64\n"
     ]
    }
   ],
   "source": [
    "# Check for missing values\n",
    "missing_values = df.isnull().sum()\n",
    "print(\"Missing values per column:\")\n",
    "print(missing_values)"
   ]
  },
  {
   "cell_type": "markdown",
   "id": "8e55b513-669c-44cf-9f38-cdae06033013",
   "metadata": {},
   "source": [
    "2. Check the duplicates"
   ]
  },
  {
   "cell_type": "code",
   "execution_count": 15,
   "id": "42cd1a9d-cce0-46ad-a791-af0ab1998a53",
   "metadata": {},
   "outputs": [
    {
     "name": "stdout",
     "output_type": "stream",
     "text": [
      "Number of duplicate rows: 3465\n"
     ]
    }
   ],
   "source": [
    "# Check for duplicate rows\n",
    "duplicates = df.duplicated().sum()\n",
    "print(f\"Number of duplicate rows: {duplicates}\")"
   ]
  },
  {
   "cell_type": "code",
   "execution_count": 16,
   "id": "ecba35ae-859a-4168-a99c-91a63d6bc0ba",
   "metadata": {},
   "outputs": [],
   "source": [
    "# Alternatively, if you want to modify the DataFrame in place\n",
    "df.drop_duplicates(inplace=True)"
   ]
  },
  {
   "cell_type": "code",
   "execution_count": 17,
   "id": "c47d3559-5c85-4d29-a0de-24d5337b1250",
   "metadata": {},
   "outputs": [
    {
     "name": "stdout",
     "output_type": "stream",
     "text": [
      "Number of duplicate rows: 0\n"
     ]
    }
   ],
   "source": [
    "# Check for duplicate rows\n",
    "duplicates = df.duplicated().sum()\n",
    "print(f\"Number of duplicate rows: {duplicates}\")"
   ]
  },
  {
   "cell_type": "markdown",
   "id": "bd8f0b7d-1b4b-40da-b523-557e73c6042c",
   "metadata": {},
   "source": [
    "3. Handling the Data Types"
   ]
  },
  {
   "cell_type": "code",
   "execution_count": 18,
   "id": "bf52307d-c9c4-4811-a9fa-30816204ebd9",
   "metadata": {},
   "outputs": [
    {
     "name": "stdout",
     "output_type": "stream",
     "text": [
      "\n",
      "Updated data types:\n",
      "age                  int64\n",
      "workclass         category\n",
      "education         category\n",
      "marital_status    category\n",
      "occupation        category\n",
      "relationship      category\n",
      "race              category\n",
      "sex               category\n",
      "capital_gain         int64\n",
      "capital_loss         int64\n",
      "hours_per_week       int64\n",
      "native_country    category\n",
      "income_bracket    category\n",
      "dtype: object\n"
     ]
    }
   ],
   "source": [
    "# Convert numerical columns explicitly (if necessary)\n",
    "numerical_columns = ['age', 'capital_gain', 'capital_loss', 'hours_per_week']\n",
    "df[numerical_columns] = df[numerical_columns].apply(pd.to_numeric)\n",
    "\n",
    "# Convert categorical columns to 'category' type\n",
    "categorical_columns = ['workclass', 'education', 'marital_status', 'occupation',\n",
    "                       'relationship', 'race', 'sex', 'native_country', 'income_bracket']\n",
    "df[categorical_columns] = df[categorical_columns].apply(lambda col: col.astype('category'))\n",
    "\n",
    "# Verify changes\n",
    "print(\"\\nUpdated data types:\")\n",
    "print(df.dtypes)\n"
   ]
  },
  {
   "cell_type": "code",
   "execution_count": 19,
   "id": "91582352-4cbb-49c6-817d-008617334dd0",
   "metadata": {},
   "outputs": [
    {
     "name": "stdout",
     "output_type": "stream",
     "text": [
      "\n",
      "Unique values in categorical columns:\n",
      "workclass: 9 unique values\n",
      "education: 16 unique values\n",
      "marital_status: 7 unique values\n",
      "occupation: 15 unique values\n",
      "relationship: 6 unique values\n",
      "race: 5 unique values\n",
      "sex: 2 unique values\n",
      "native_country: 42 unique values\n",
      "income_bracket: 2 unique values\n"
     ]
    }
   ],
   "source": [
    "# Check for any anomalies (e.g., unexpected missing or unique values after conversion)\n",
    "print(\"\\nUnique values in categorical columns:\")\n",
    "for col in categorical_columns:\n",
    "    print(f\"{col}: {df[col].nunique()} unique values\")"
   ]
  },
  {
   "cell_type": "markdown",
   "id": "5c5807dc-7b38-4279-baf1-9bb4f4135fd9",
   "metadata": {},
   "source": [
    "4. Addressing Outliers or Anomalies"
   ]
  },
  {
   "cell_type": "code",
   "execution_count": 20,
   "id": "36344e38-4c2b-46e7-81ec-6a096f9b9f2f",
   "metadata": {},
   "outputs": [
    {
     "data": {
      "image/png": "[encoded data removed]",
      "text/plain": [
       "<Figure size 800x400 with 1 Axes>"
      ]
     },
     "metadata": {},
     "output_type": "display_data"
    },
    {
     "data": {
      "image/png": "[encoded data removed]",
      "text/plain": [
       "<Figure size 800x400 with 1 Axes>"
      ]
     },
     "metadata": {},
     "output_type": "display_data"
    },
    {
     "data": {
      "image/png": "[encoded data removed]",
      "text/plain": [
       "<Figure size 800x400 with 1 Axes>"
      ]
     },
     "metadata": {},
     "output_type": "display_data"
    },
    {
     "data": {
      "image/png": "[encoded data removed]",
      "text/plain": [
       "<Figure size 800x400 with 1 Axes>"
      ]
     },
     "metadata": {},
     "output_type": "display_data"
    }
   ],
   "source": [
    "# Visualize potential outliers in numerical columns\n",
    "numerical_cols = ['age', 'capital_gain', 'capital_loss', 'hours_per_week']\n",
    "for col in numerical_cols:\n",
    "    plt.figure(figsize=(8, 4))\n",
    "    sns.boxplot(x=df[col])\n",
    "    plt.title(f\"Boxplot of {col}\")\n",
    "    plt.show()"
   ]
  },
  {
   "cell_type": "markdown",
   "id": "f97644bd-f7a3-4fa9-8c99-670f14640ab8",
   "metadata": {},
   "source": [
    "## **Why we don't remove the outliers?**\n",
    "### - **Age**\n",
    "**Reason:** Extreme ages (young or old) reflect real-world variations in income, such as teenagers or retirees. Removing them would ignore valid demographic trends.\n",
    "**Decision:** Keep outliers for accurate demographic representation.\n",
    "### - **Capital Gain & Capital Loss**\n",
    "**Reason:** High capital gain/loss values indicate individuals with investments or unique financial circumstances. These are meaningful and not errors.\n",
    "**Decision:** Retain outliers to capture financial diversity in income analysis.\n",
    "### - **Hours Per Week**\n",
    "**Reason:** Extremely high or low working hours represent diverse work patterns, such as part-time, full-time, or overtime workers. Removing these would discard important data.\n",
    "**Decision:** Keep outliers to reflect the full spectrum of working hours."
   ]
  },
  {
   "cell_type": "markdown",
   "id": "97827969-db60-4e16-b0cb-66d9c0387156",
   "metadata": {},
   "source": [
    "5. Cleaning Up Invalid or Inconsistent Entries"
   ]
  },
  {
   "cell_type": "code",
   "execution_count": 21,
   "id": "c670f315-6a18-49b4-81ce-f2dc6505e1fe",
   "metadata": {},
   "outputs": [
    {
     "name": "stdout",
     "output_type": "stream",
     "text": [
      "Unique values in workclass:\n",
      "[' Private', ' ?', ' Local-gov', ' Self-emp-inc', ' Federal-gov', ' State-gov', ' Self-emp-not-inc', ' Never-worked', ' Without-pay']\n",
      "Categories (9, object): [' ?', ' Federal-gov', ' Local-gov', ' Never-worked', ..., ' Self-emp-inc', ' Self-emp-not-inc', ' State-gov', ' Without-pay']\n",
      "Unique values in education:\n",
      "[' 9th', ' 10th', ' 11th', ' 12th', ' 1st-4th', ..., ' Doctorate', ' Preschool', ' Assoc-acdm', ' Prof-school', ' Some-college']\n",
      "Length: 16\n",
      "Categories (16, object): [' 10th', ' 11th', ' 12th', ' 1st-4th', ..., ' Masters', ' Preschool', ' Prof-school', ' Some-college']\n",
      "Unique values in marital_status:\n",
      "[' Married-civ-spouse', ' Separated', ' Never-married', ' Divorced', ' Married-spouse-absent', ' Widowed', ' Married-AF-spouse']\n",
      "Categories (7, object): [' Divorced', ' Married-AF-spouse', ' Married-civ-spouse', ' Married-spouse-absent', ' Never-married', ' Separated', ' Widowed']\n",
      "Unique values in occupation:\n",
      "[' Other-service', ' Priv-house-serv', ' Protective-serv', ' Machine-op-inspct', ' ?', ..., ' Craft-repair', ' Transport-moving', ' Handlers-cleaners', ' Prof-specialty', ' Armed-Forces']\n",
      "Length: 15\n",
      "Categories (15, object): [' ?', ' Adm-clerical', ' Armed-Forces', ' Craft-repair', ..., ' Protective-serv', ' Sales', ' Tech-support', ' Transport-moving']\n",
      "Unique values in relationship:\n",
      "[' Wife', ' Husband', ' Own-child', ' Unmarried', ' Not-in-family', ' Other-relative']\n",
      "Categories (6, object): [' Husband', ' Not-in-family', ' Other-relative', ' Own-child', ' Unmarried', ' Wife']\n",
      "Unique values in race:\n",
      "[' Black', ' White', ' Asian-Pac-Islander', ' Other', ' Amer-Indian-Eskimo']\n",
      "Categories (5, object): [' Amer-Indian-Eskimo', ' Asian-Pac-Islander', ' Black', ' Other', ' White']\n",
      "Unique values in sex:\n",
      "[' Female', ' Male']\n",
      "Categories (2, object): [' Female', ' Male']\n",
      "Unique values in native_country:\n",
      "[' United-States', ' Haiti', ' Portugal', ' Yugoslavia', ' Dominican-Republic', ..., ' Hungary', ' Iran', ' Taiwan', ' France', ' Holand-Netherlands']\n",
      "Length: 42\n",
      "Categories (42, object): [' ?', ' Cambodia', ' Canada', ' China', ..., ' Trinadad&Tobago', ' United-States', ' Vietnam', ' Yugoslavia']\n"
     ]
    }
   ],
   "source": [
    "# Identify unique values in categorical columns\n",
    "categorical_cols = ['workclass', 'education', 'marital_status', 'occupation', 'relationship', 'race', 'sex', 'native_country']\n",
    "for col in categorical_cols:\n",
    "    print(f\"Unique values in {col}:\")\n",
    "    print(df[col].unique())"
   ]
  },
  {
   "cell_type": "code",
   "execution_count": 22,
   "id": "b33c94d7-a3f0-4ef8-a2c6-15229036a2aa",
   "metadata": {},
   "outputs": [
    {
     "name": "stdout",
     "output_type": "stream",
     "text": [
      "Unique values in workclass:\n",
      "['private' '?' 'local-gov' 'self-emp-inc' 'federal-gov' 'state-gov'\n",
      " 'self-emp-not-inc' 'never-worked' 'without-pay']\n",
      "Unique values in education:\n",
      "['9th' '10th' '11th' '12th' '1st-4th' '5th-6th' '7th-8th' 'hs-grad'\n",
      " 'masters' 'assoc-voc' 'bachelors' 'doctorate' 'preschool' 'assoc-acdm'\n",
      " 'prof-school' 'some-college']\n",
      "Unique values in marital_status:\n",
      "['married-civ-spouse' 'separated' 'never-married' 'divorced'\n",
      " 'married-spouse-absent' 'widowed' 'married-af-spouse']\n",
      "Unique values in occupation:\n",
      "['other-service' 'priv-house-serv' 'protective-serv' 'machine-op-inspct'\n",
      " '?' 'tech-support' 'exec-managerial' 'farming-fishing' 'adm-clerical'\n",
      " 'sales' 'craft-repair' 'transport-moving' 'handlers-cleaners'\n",
      " 'prof-specialty' 'armed-forces']\n",
      "Unique values in relationship:\n",
      "['wife' 'husband' 'own-child' 'unmarried' 'not-in-family' 'other-relative']\n",
      "Unique values in race:\n",
      "['black' 'white' 'asian-pac-islander' 'other' 'amer-indian-eskimo']\n",
      "Unique values in sex:\n",
      "['female' 'male']\n",
      "Unique values in native_country:\n",
      "['united-states' 'haiti' 'portugal' 'yugoslavia' 'dominican-republic'\n",
      " 'hong' '?' 'trinadad&tobago' 'mexico' 'guatemala' 'puerto-rico' 'canada'\n",
      " 'poland' 'outlying-us(guam-usvi-etc)' 'india' 'el-salvador' 'nicaragua'\n",
      " 'philippines' 'cuba' 'columbia' 'vietnam' 'jamaica' 'ireland' 'china'\n",
      " 'japan' 'italy' 'peru' 'england' 'ecuador' 'greece' 'germany' 'laos'\n",
      " 'scotland' 'south' 'honduras' 'cambodia' 'thailand' 'hungary' 'iran'\n",
      " 'taiwan' 'france' 'holand-netherlands']\n"
     ]
    }
   ],
   "source": [
    "# Correcting variations or typos in 'workclass' category\n",
    "df['workclass'] = df['workclass'].replace({\n",
    "    'self-emp-not-inc': 'self-employed',\n",
    "    'self-emp-inc': 'self-employed'\n",
    "})\n",
    "\n",
    "# Standardizing the 'marital_status' categories for consistency\n",
    "df['marital_status'] = df['marital_status'].replace({\n",
    "    'married-civ-spouse': 'married',\n",
    "    'married-spouse-absent': 'married',\n",
    "    'married-AF-spouse': 'married'\n",
    "})\n",
    "\n",
    "df['occupation'] = df['occupation'].replace({\n",
    "    'machine-op-inspct': 'machine-operation-inspctor',\n",
    "    'exec-managerial': 'executive',\n",
    "    'adm-clerical': 'Administrative'\n",
    "})\n",
    "\n",
    "df['education'] = df['education'].replace({\n",
    "    '9th grade': '9th',\n",
    "    '10th grade': '10th',\n",
    "    '11th grade': '11th',\n",
    "    '12th grade': '12th',\n",
    "    '1st-4th': 'elementary school',\n",
    "    '5th-6th': 'elementary school',\n",
    "    '7th-8th': 'middle school',\n",
    "    'assoc-voc': 'associate\\'s degree vocational',\n",
    "    'assoc-acdm': 'associate\\'s degree academic',\n",
    "    'prof-school': 'professional school',\n",
    "    'some-college': 'some college'\n",
    "})\n",
    "\n",
    "\n",
    "# Checking for unexpected or invalid categories in 'native_country'\n",
    "df['native_country'] = df['native_country'].replace({'unknown': 'Other'})\n",
    "\n",
    "# Standardize Text Columns to Lowercase\n",
    "# Convert other text-based columns to lowercase to avoid inconsistencies.\n",
    "df['workclass'] = df['workclass'].str.lower()  # Convert 'workclass' to lowercase\n",
    "df['education'] = df['education'].str.lower()  # Convert 'education' to lowercase\n",
    "df['marital_status'] = df['marital_status'].str.lower()  # Convert 'marital_status' to lowercase\n",
    "df['occupation'] = df['occupation'].str.lower()  # Convert 'occupation' to lowercase\n",
    "df['relationship'] = df['relationship'].str.lower()  # Convert 'relationship' to lowercase\n",
    "df['race'] = df['race'].str.lower()  # Convert 'race' to lowercase\n",
    "df['sex'] = df['sex'].str.lower()  # Convert 'sex' to lowercase\n",
    "df['native_country'] = df['native_country'].str.lower()\n",
    "\n",
    "\n",
    "# Strip Whitespace from Categorical Columns\n",
    "# Removing leading/trailing spaces in categorical data to avoid mismatches\n",
    "df['education'] = df['education'].str.strip()  # Remove extra spaces from 'education'\n",
    "df['workclass'] = df['workclass'].str.strip()  # Remove extra spaces from 'workclass'\n",
    "df['marital_status'] = df['marital_status'].str.strip()  # Remove extra spaces from 'marital_status'\n",
    "df['occupation'] = df['occupation'].str.strip()  # Remove extra spaces from 'occupation'\n",
    "df['native_country'] = df['native_country'].str.strip()  \n",
    "df['relationship'] = df['relationship'].str.strip()\n",
    "df['race'] = df['race'].str.strip()\n",
    "df['sex'] = df['sex'].str.strip()\n",
    "\n",
    "\n",
    "# Print a summary of the changes made\n",
    "categorical_cols = ['workclass', 'education', 'marital_status', 'occupation', 'relationship', 'race', 'sex', 'native_country']\n",
    "for col in categorical_cols:\n",
    "    print(f\"Unique values in {col}:\")\n",
    "    print(df[col].unique())\n",
    "\n"
   ]
  },
  {
   "cell_type": "code",
   "execution_count": 23,
   "id": "15821eac-3a8e-4621-a8ad-d6ad3a9cf5ce",
   "metadata": {},
   "outputs": [
    {
     "name": "stdout",
     "output_type": "stream",
     "text": [
      "workclass         1632\n",
      "occupation        1639\n",
      "native_country     580\n",
      "dtype: int64\n"
     ]
    }
   ],
   "source": [
    "# Convert all columns to string type and then check for '?' marks\n",
    "columns_with_question_mark = df.apply(lambda x: x.astype(str).str.contains('\\?', na=False).sum(), axis=0)\n",
    "\n",
    "# Display columns where '?' appears\n",
    "print(columns_with_question_mark[columns_with_question_mark > 0])\n"
   ]
  },
  {
   "cell_type": "code",
   "execution_count": 24,
   "id": "57ae25b6-9e3b-45f5-b4b2-3d511b4e9b53",
   "metadata": {},
   "outputs": [
    {
     "name": "stdout",
     "output_type": "stream",
     "text": [
      "workclass         1632\n",
      "occupation        1639\n",
      "native_country     580\n",
      "dtype: int64\n"
     ]
    }
   ],
   "source": [
    "# Convert '?' to NaN\n",
    "df['workclass'] = df['workclass'].replace('?', np.nan)\n",
    "df['occupation'] = df['occupation'].replace('?', np.nan)\n",
    "df['native_country'] = df['native_country'].replace('?', np.nan)\n",
    "\n",
    "# Check for NaN values to confirm the conversion\n",
    "print(df[['workclass', 'occupation', 'native_country']].isna().sum())"
   ]
  },
  {
   "cell_type": "code",
   "execution_count": 25,
   "id": "e343a44b-c5c1-493f-9991-02d2f7e51ee4",
   "metadata": {},
   "outputs": [
    {
     "name": "stdout",
     "output_type": "stream",
     "text": [
      "workclass         0\n",
      "occupation        0\n",
      "native_country    0\n",
      "dtype: int64\n"
     ]
    }
   ],
   "source": [
    "# Impute NaN values with the mode (most frequent value) for each column\n",
    "df['workclass'] = df['workclass'].fillna(df['workclass'].mode()[0])\n",
    "df['occupation'] = df['occupation'].fillna(df['occupation'].mode()[0])\n",
    "df['native_country'] = df['native_country'].fillna(df['native_country'].mode()[0])\n",
    "\n",
    "# Check for NaN values to confirm replacing them\n",
    "print(df[['workclass', 'occupation', 'native_country']].isna().sum())\n"
   ]
  },
  {
   "cell_type": "markdown",
   "id": "4192f6a3-c274-4a97-bb76-1baf2fb3a80c",
   "metadata": {},
   "source": [
    "# Step 3: Data Visualization\n",
    "- Create some charts, colleration matrix, heatmap, and any other additional thing you find by your search \n",
    "- Write conclusion under each of the chart"
   ]
  },
  {
   "cell_type": "code",
   "execution_count": null,
   "id": "f1c0cd2d-79d5-4448-96b4-2fb94bfb69f6",
   "metadata": {},
   "outputs": [],
   "source": []
  },
  {
   "cell_type": "markdown",
   "id": "82cb694a-dfc1-4676-ac41-078aa7d3ca74",
   "metadata": {},
   "source": [
    "# Step 4: Data Preprocessing\n",
    "\"Search for steps suitable for the following ML algorithms which are logistic regression and Random Forest algorithms\" \n",
    "- Encoding categorical data.\n",
    "- Scaling or normalizing numerical features.\n",
    "- Feature engineering (e.g., creating or combining features).\n"
   ]
  },
  {
   "cell_type": "markdown",
   "id": "e67afa36-d963-4041-a00e-c9db14bcd940",
   "metadata": {},
   "source": [
    "## 1. Encoding\n",
    "Since the dataset contains categorical variables (e.g., workclass, education, occupation, etc.), encoding them into numerical format is necessary.\n",
    "\n",
    "Use one-hot encoding for categorical variables, as it is universally compatible with both Logistic Regression and Random Forest. While Random Forest can handle label encoding, one-hot encoding avoids any implicit ordinal relationships between categories, which is also crucial for Logistic Regression."
   ]
  },
  {
   "cell_type": "code",
   "execution_count": 28,
   "id": "3954db0c-c78e-424b-9088-f5c62fd0a646",
   "metadata": {},
   "outputs": [],
   "source": [
    "# One-hot encode all categorical columns\n",
    "df = pd.get_dummies(df, columns=[\n",
    "    \"workclass\", \"education\", \"marital_status\", \"occupation\", \n",
    "    \"relationship\", \"race\", \"sex\", \"native_country\", \"income_bracket\"\n",
    "], drop_first=True)"
   ]
  },
  {
   "cell_type": "markdown",
   "id": "68a16e07-0887-403d-a0ea-776f0c6edef6",
   "metadata": {},
   "source": [
    "## 2. Normalization/Scaling\n",
    "Apply standardization to continuous numerical features. While Random Forest does not require scaling, applying the same scaling ensures consistency when using both algorithms."
   ]
  },
  {
   "cell_type": "code",
   "execution_count": 29,
   "id": "123a0f03-3231-452b-b03b-76c71c536ab4",
   "metadata": {},
   "outputs": [],
   "source": [
    "from sklearn.preprocessing import StandardScaler\n",
    "\n",
    "# List of numerical columns\n",
    "numerical_columns = [\"age\", \"capital_gain\", \"capital_loss\", \"hours_per_week\"]\n",
    "\n",
    "# Apply StandardScaler to normalize numerical columns\n",
    "scaler = StandardScaler()\n",
    "df[numerical_columns] = scaler.fit_transform(df[numerical_columns])\n"
   ]
  },
  {
   "cell_type": "markdown",
   "id": "38a10af5-b8ff-4609-b003-9fa70cd39bc6",
   "metadata": {},
   "source": [
    "## 3. Feature engineering"
   ]
  },
  {
   "cell_type": "markdown",
   "id": "14764545-f831-46ca-ab7e-da47e0308a6b",
   "metadata": {},
   "source": [
    "### 1. Combine Features\n",
    "a. Age Groups\n",
    "Create age categories to capture potential nonlinear relationships between age and income.\n",
    "\n",
    "b. Income-to-Hours Ratio\n",
    "Calculate the ratio of capital_gain to hours_per_week to capture the productivity of capital gain relative to working hours.\n",
    "\n",
    "c. Combine Marital Status and Relationship\n",
    "These two features may have overlapping information. Combine them into a single feature to represent the broader context of household structure"
   ]
  },
  {
   "cell_type": "markdown",
   "id": "c7ebf727-228b-4c6f-b0c1-34e90f0795eb",
   "metadata": {},
   "source": [
    "### 2. Transform Features\n",
    "a. Log Transformation\n",
    "Apply log transformation to capital_gain and capital_loss to reduce skewness in their distribution.\n",
    "\n",
    "b. Interaction Features\n",
    "Create interaction terms between important variables (e.g., education and occupation), as these may jointly influence income."
   ]
  },
  {
   "cell_type": "markdown",
   "id": "e57cfce4-d102-4b8a-a55b-4492c29e947c",
   "metadata": {},
   "source": [
    "### 3. Drop Less Informative Features\n",
    "After creating new features, drop redundant or less informative columns, such as:\n",
    "\n",
    "- The original capital_gain and capital_loss columns after log transformation.\n",
    "- Redundant categorical columns if combined features are more informative."
   ]
  },
  {
   "cell_type": "code",
   "execution_count": null,
   "id": "c71cf9f9-e4aa-4f16-a2d4-f55e37c8bfb4",
   "metadata": {},
   "outputs": [],
   "source": [
    "# Age groups\n",
    "bins = [0, 25, 45, 65, 100]\n",
    "labels = [\"Youth\", \"Adult\", \"Middle-aged\", \"Senior\"]\n",
    "df[\"age_group\"] = pd.cut(df[\"age\"], bins=bins, labels=labels)\n",
    "\n",
    "# Capital gain per hour\n",
    "df[\"capital_gain_per_hour\"] = df[\"capital_gain\"] / (df[\"hours_per_week\"] + 1)\n",
    "\n",
    "# Log transformation for skewed data\n",
    "df[\"log_capital_gain\"] = np.log1p(df[\"capital_gain\"])\n",
    "df[\"log_capital_loss\"] = np.log1p(df[\"capital_loss\"])\n",
    "\n",
    "# Combine marital status and relationship\n",
    "df[\"marital_relationship\"] = df[\"marital_status\"] + \"_\" + df[\"relationship\"]\n",
    "\n",
    "# One-hot encoding\n",
    "df = pd.get_dummies(df, columns=[\n",
    "    \"age_group\", \"marital_relationship\", \"education\", \"occupation\"\n",
    "], drop_first=True)\n",
    "\n",
    "# Drop redundant features\n",
    "df.drop([\"capital_gain\", \"capital_loss\"], axis=1, inplace=True)\n"
   ]
  },
  {
   "cell_type": "code",
   "execution_count": 32,
   "id": "36f539a6-1a73-4404-9f0b-bf3d95e833ef",
   "metadata": {},
   "outputs": [
    {
     "name": "stdout",
     "output_type": "stream",
     "text": [
      "Index(['age', 'capital_gain', 'capital_loss', 'hours_per_week',\n",
      "       'workclass_local-gov', 'workclass_never-worked', 'workclass_private',\n",
      "       'workclass_self-emp-inc', 'workclass_self-emp-not-inc',\n",
      "       'workclass_state-gov', 'workclass_without-pay', 'education_11th',\n",
      "       'education_12th', 'education_1st-4th', 'education_5th-6th',\n",
      "       'education_7th-8th', 'education_9th', 'education_assoc-acdm',\n",
      "       'education_assoc-voc', 'education_bachelors', 'education_doctorate',\n",
      "       'education_hs-grad', 'education_masters', 'education_preschool',\n",
      "       'education_prof-school', 'education_some-college',\n",
      "       'marital_status_married-af-spouse', 'marital_status_married-civ-spouse',\n",
      "       'marital_status_married-spouse-absent', 'marital_status_never-married',\n",
      "       'marital_status_separated', 'marital_status_widowed',\n",
      "       'occupation_armed-forces', 'occupation_craft-repair',\n",
      "       'occupation_exec-managerial', 'occupation_farming-fishing',\n",
      "       'occupation_handlers-cleaners', 'occupation_machine-op-inspct',\n",
      "       'occupation_other-service', 'occupation_priv-house-serv',\n",
      "       'occupation_prof-specialty', 'occupation_protective-serv',\n",
      "       'occupation_sales', 'occupation_tech-support',\n",
      "       'occupation_transport-moving', 'relationship_not-in-family',\n",
      "       'relationship_other-relative', 'relationship_own-child',\n",
      "       'relationship_unmarried', 'relationship_wife',\n",
      "       'race_asian-pac-islander', 'race_black', 'race_other', 'race_white',\n",
      "       'sex_male', 'native_country_canada', 'native_country_china',\n",
      "       'native_country_columbia', 'native_country_cuba',\n",
      "       'native_country_dominican-republic', 'native_country_ecuador',\n",
      "       'native_country_el-salvador', 'native_country_england',\n",
      "       'native_country_france', 'native_country_germany',\n",
      "       'native_country_greece', 'native_country_guatemala',\n",
      "       'native_country_haiti', 'native_country_holand-netherlands',\n",
      "       'native_country_honduras', 'native_country_hong',\n",
      "       'native_country_hungary', 'native_country_india', 'native_country_iran',\n",
      "       'native_country_ireland', 'native_country_italy',\n",
      "       'native_country_jamaica', 'native_country_japan', 'native_country_laos',\n",
      "       'native_country_mexico', 'native_country_nicaragua',\n",
      "       'native_country_outlying-us(guam-usvi-etc)', 'native_country_peru',\n",
      "       'native_country_philippines', 'native_country_poland',\n",
      "       'native_country_portugal', 'native_country_puerto-rico',\n",
      "       'native_country_scotland', 'native_country_south',\n",
      "       'native_country_taiwan', 'native_country_thailand',\n",
      "       'native_country_trinadad&tobago', 'native_country_united-states',\n",
      "       'native_country_vietnam', 'native_country_yugoslavia',\n",
      "       'income_bracket_ >50K'],\n",
      "      dtype='object')\n"
     ]
    }
   ],
   "source": [
    "print(df.columns)"
   ]
  },
  {
   "cell_type": "code",
   "execution_count": 35,
   "id": "51d324f6-38f4-43e8-8dfe-f028fbc312c9",
   "metadata": {},
   "outputs": [
    {
     "name": "stdout",
     "output_type": "stream",
     "text": [
      "Training features shape: (23276, 93)\n",
      "Testing features shape: (5820, 93)\n",
      "Training target shape: (23276,)\n",
      "Testing target shape: (5820,)\n"
     ]
    }
   ],
   "source": [
    "# Ensure the target variable is numeric\n",
    "df[\"income_bracket_ >50K\"] = df[\"income_bracket_ >50K\"].apply(lambda x: 1 if x == \">50K\" else 0)\n",
    "\n",
    "# Features (X) - Drop the target column 'income_bracket_ >50K' and any redundant columns after feature engineering\n",
    "X = df.drop([\"income_bracket_ >50K\", \"capital_gain\", \"capital_loss\"], axis=1)  # Drop the target and redundant columns\n",
    "y = df[\"income_bracket_ >50K\"]  # Target variable\n",
    "\n",
    "# Split the data into training and testing sets (80% training, 20% testing)\n",
    "from sklearn.model_selection import train_test_split\n",
    "X_train, X_test, y_train, y_test = train_test_split(X, y, test_size=0.2, random_state=42)\n",
    "\n",
    "# Check the shapes of the splits to verify the operation\n",
    "print(f\"Training features shape: {X_train.shape}\")\n",
    "print(f\"Testing features shape: {X_test.shape}\")\n",
    "print(f\"Training target shape: {y_train.shape}\")\n",
    "print(f\"Testing target shape: {y_test.shape}\")\n"
   ]
  },
  {
   "cell_type": "markdown",
   "id": "38be7967-394a-43d5-a027-11528c817374",
   "metadata": {},
   "source": [
    "# Step 5: Machine Learning Algorithms\n",
    "### ~ Dataset Characteristics\n",
    "- **Goal:** Predict income_bracket (binary classification: <=50K or >50K).\n",
    "- **Features:**\n",
    "Mix of numerical (e.g., age, hours_per_week) and categorical (e.g., workclass, occupation) data.\n",
    "Some features (e.g., capital_gain and capital_loss) have skewed distributions or high sparsity.\n",
    "- **The target is imbalanced:** typically, fewer people earn >50K.\n",
    "\n",
    "## 1. Logistic Regression\n",
    "**Why??**\n",
    "- Works well for binary classification.\n",
    "- Performs efficiently on structured datasets with preprocessed data.\n",
    "- Handles imbalanced classes reasonably well when combined with class weights or balancing techniques."
   ]
  },
  {
   "cell_type": "code",
   "execution_count": null,
   "id": "2759f393-65c7-43ce-ac59-9b7db0bdc8ee",
   "metadata": {},
   "outputs": [],
   "source": []
  },
  {
   "cell_type": "markdown",
   "id": "a95e7a14-bc10-42ee-aedd-8322f89342ef",
   "metadata": {},
   "source": [
    "## 2. Random Forest Classifier\n",
    "\n",
    "**Why??**\n",
    "- Handles mixed data types (numerical and categorical).\n",
    "- Automatically manages interactions between features without extensive preprocessing.\n",
    "- Robust to outliers and irrelevant features.\n",
    "- Performs well even with imbalanced datasets (with appropriate class weights or sampling).\n",
    "\n",
    "\"Will use it to improve the evaluation\""
   ]
  },
  {
   "cell_type": "code",
   "execution_count": null,
   "id": "dc7a5380-0b51-4388-9672-2c95cb649acd",
   "metadata": {},
   "outputs": [],
   "source": []
  },
  {
   "cell_type": "markdown",
   "id": "944985cb-4450-416a-9c19-0351ce039ca3",
   "metadata": {},
   "source": [
    "## Steps\n",
    "1. Split Data:\n",
    "- Divide the dataset into training and test sets.\n",
    "2. Train Both Models:\n",
    "- Train logistic regression and random forest models on the same training data.\n",
    "3. Evaluate Metrics:\n",
    "- Compare metrics like Accuracy, Precision, Recall, and F1-Score on the test set.\n",
    "4. Cross-Validation:\n",
    "- Use cross-validation to ensure robustness."
   ]
  },
  {
   "cell_type": "code",
   "execution_count": null,
   "id": "fe3476ea-4a6c-45ff-a9b3-35509ed76879",
   "metadata": {},
   "outputs": [],
   "source": []
  }
 ],
 "metadata": {
  "kernelspec": {
   "display_name": "Python 3 (ipykernel)",
   "language": "python",
   "name": "python3"
  },
  "language_info": {
   "codemirror_mode": {
    "name": "ipython",
    "version": 3
   },
   "file_extension": ".py",
   "mimetype": "text/x-python",
   "name": "python",
   "nbconvert_exporter": "python",
   "pygments_lexer": "ipython3",
   "version": "3.11.7"
  }
 },
 "nbformat": 4,
 "nbformat_minor": 5
}
